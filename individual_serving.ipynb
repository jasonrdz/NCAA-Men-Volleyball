{
 "cells": [
  {
   "cell_type": "code",
   "execution_count": 1,
   "id": "5c0b5052-fffc-4224-8005-56c394ce2aa2",
   "metadata": {},
   "outputs": [],
   "source": [
    "import pandas as pd\n",
    "from bs4 import BeautifulSoup\n",
    "import requests\n",
    "import numpy as np\n",
    "import math\n",
    "from datetime import datetime \n",
    "import hashlib\n",
    "import time\n",
    "from email.message import EmailMessage\n",
    "import sys\n",
    "import os\n",
    "path = os.getcwd()\n",
    "pathing = sys.path.append(path)\n",
    "sys.path.append(os.path.abspath('.')) \n",
    "\n",
    "from internal_modules.email import send_email\n",
    "from internal_modules.email import sent"
   ]
  },
  {
   "cell_type": "code",
   "execution_count": 2,
   "id": "679f9665-9d2f-4f27-af21-7f25beb6ac09",
   "metadata": {},
   "outputs": [],
   "source": [
    "aces_individual = 'https://www.ncaa.com/stats/volleyball-men/d1/current/individual/532'"
   ]
  },
  {
   "cell_type": "code",
   "execution_count": 3,
   "id": "6f94f54b-5f57-4f8b-9ff0-ce5468bd1bf3",
   "metadata": {},
   "outputs": [],
   "source": [
    "service = requests.get(aces_individual)"
   ]
  },
  {
   "cell_type": "code",
   "execution_count": 4,
   "id": "7b5bf35b-e669-4954-90f7-812625304342",
   "metadata": {},
   "outputs": [],
   "source": [
    "collecting = service.content\n",
    "information_aces = BeautifulSoup(collecting, 'html.parser')\n",
    "information_aces.prettify()\n",
    "\n",
    "date_updated = '<em class=\"placeholder\">Monday, January 27, 2025 8:08 am</em>'"
   ]
  },
  {
   "cell_type": "code",
   "execution_count": null,
   "id": "b3070735-a671-4283-b6db-2c681153c5b2",
   "metadata": {},
   "outputs": [
    {
     "name": "stdout",
     "output_type": "stream",
     "text": [
      "Process to check if there was an update has begun.\n"
     ]
    }
   ],
   "source": [
    "def last_update():\n",
    "    try:\n",
    "        url_aces = 'https://www.ncaa.com/stats/volleyball-men/d1/current/individual/532'\n",
    "        service = requests.get(url_aces)\n",
    "        collecting = service.content\n",
    "        information_aces = BeautifulSoup(collecting, 'html.parser')\n",
    "        most_recent_date = information_aces.find_all('em')[1].text.strip()\n",
    "        if len(most_recent_date) <= 1:\n",
    "            return f'There has been an issue with the retrieving of the data. Contact the Author to resolve the issue.'\n",
    "        else:\n",
    "            time_stamp = datetime.strptime(most_recent_date, \"%A, %B %d, %Y %I:%M %p\")  \n",
    "            return time_stamp\n",
    "    except Exception as error:\n",
    "        return f'There was an error at {error}, solve it to be able to parse the last updated date.'\n",
    "\n",
    "updated = last_update()\n",
    "\n",
    "def checking_update():\n",
    "    last_known_update = updated  \n",
    "    if not last_known_update:\n",
    "        print(f'There has been an issue retrieving the last known update. Closing.')\n",
    "        return None\n",
    "    print(f'Process to check if there was an update has begun.')\n",
    "\n",
    "    while True:\n",
    "        try:\n",
    "            start_time = time.time()\n",
    "            \n",
    "            time.sleep(604800)  \n",
    "            \n",
    "            print(\"Fetching current update timestamp...\")\n",
    "            current_update = updated\n",
    "            \n",
    "            end_time = time.time()\n",
    "            elapsed_time = end_time - start_time\n",
    "            \n",
    "            if not current_update:\n",
    "                print(f\"Failed to fetch the current update time. Elapsed time: {elapsed_time:.2f} seconds. Retrying...\")\n",
    "            if current_update != last_known_update:\n",
    "                print(f\"The monitored part of the website has been updated! Elapsed time: {elapsed_time:.2f} seconds.\")\n",
    "                last_known_update = current_update\n",
    "                break\n",
    "            else:\n",
    "                print(f\"No update detected. Still monitoring. Elapsed time: {elapsed_time:.2f} seconds.\")\n",
    "        except KeyboardInterrupt:\n",
    "            print(\"Monitoring stopped.\")\n",
    "        except Exception as e:\n",
    "            print(f\"An error occurred during monitoring: {e}\")\n",
    "            \n",
    "\n",
    "            \n",
    "print(checking_update())"
   ]
  },
  {
   "cell_type": "code",
   "execution_count": null,
   "id": "00c6cef8-f06f-4215-9509-77f078271b68",
   "metadata": {},
   "outputs": [],
   "source": [
    "last_updated = information_aces.find_all('em')[0]\n",
    "# this is the going to be the date of when the page is updated\n",
    "most_recent_date = information_aces.find_all('em')[1].text.strip()\n",
    "most_recent_date\n",
    "time_stamp = datetime.strptime(most_recent_date, \"%A, %B %d, %Y %I:%M %p\") \n",
    "print(time_stamp)\n"
   ]
  },
  {
   "cell_type": "code",
   "execution_count": null,
   "id": "7cda41c5-d6a4-44e7-b60c-ad6eef35e69a",
   "metadata": {},
   "outputs": [],
   "source": [
    "# in order to make the data frame we want to make, we will need to find all the headers and columns we were using earlier\n",
    "columns_aces = information_aces.find('tr').text\n",
    "columns_aces = columns_aces.replace('\\n',' ').strip().split()\n",
    "df = pd.DataFrame(columns = columns_aces)\n",
    "df['Per Set'] = df['Per'].astype(str) + df['Set'].astype(str)\n",
    "df = df.drop(['Per','Set'], axis = 1)"
   ]
  },
  {
   "cell_type": "code",
   "execution_count": null,
   "id": "8e79b2ef-a7fc-41fd-9610-4f20cb89d9a7",
   "metadata": {
    "scrolled": true
   },
   "outputs": [],
   "source": [
    "# putting everything all together\n",
    "\n",
    "table_data = information_aces.find_all('tr')\n",
    "\n",
    "valid_ranking = 0\n",
    "\n",
    "for item in table_data[1:]:\n",
    "    vb = item.find_all('td')\n",
    "    pieced = [info.text.strip() for info in vb]\n",
    "    if pieced[0] == '-':\n",
    "        valid_ranking += 1\n",
    "        pieced[0] = str(valid_ranking)\n",
    "    else:\n",
    "        valid_ranking= int(pieced[0])\n",
    "    length = len(df)\n",
    "    df.loc[length] = pieced\n",
    "\n",
    "\n",
    "# changing the data types\n",
    "df['S'] = df['S'].astype(int)\n",
    "df['Aces'] = df['Aces'].astype(int)\n",
    "df['Per Set'] = df['Per Set'].astype(float)\n",
    "df['Rank'] = df['Rank'].astype(int)"
   ]
  },
  {
   "cell_type": "code",
   "execution_count": null,
   "id": "0053f5ab-94d7-4578-87f0-6c402f2a2f5d",
   "metadata": {},
   "outputs": [],
   "source": [
    "# we usually will use .3 to .5 for the best serving teams\n",
    "# will research more on the \n",
    "\n",
    "average = df[(df['Per Set'] > .3) & (df['Per Set'] < .5) & (df['Aces'] >= 10) & (df['S'] > int(20))]\n",
    "average\n",
    "\n",
    "df"
   ]
  },
  {
   "cell_type": "code",
   "execution_count": null,
   "id": "a0e391c6-4c3d-4646-81df-7f261f10bacf",
   "metadata": {},
   "outputs": [],
   "source": [
    "# current status of project: \n",
    "# I am looking to do some research on the historcally best teams with their serving percentages and the overall \n",
    "# performance of the teams\n",
    "\n",
    "# Automation should come next given the finalized of formulaic approach I decide to take"
   ]
  },
  {
   "cell_type": "code",
   "execution_count": null,
   "id": "4d1334fb-285d-4fae-8204-2e36641193be",
   "metadata": {},
   "outputs": [],
   "source": []
  },
  {
   "cell_type": "code",
   "execution_count": null,
   "id": "6a78c409-971b-4bb5-9563-52e0df7b95b4",
   "metadata": {},
   "outputs": [],
   "source": []
  }
 ],
 "metadata": {
  "kernelspec": {
   "display_name": "Python 3 (ipykernel)",
   "language": "python",
   "name": "python3"
  },
  "language_info": {
   "codemirror_mode": {
    "name": "ipython",
    "version": 3
   },
   "file_extension": ".py",
   "mimetype": "text/x-python",
   "name": "python",
   "nbconvert_exporter": "python",
   "pygments_lexer": "ipython3",
   "version": "3.11.4"
  }
 },
 "nbformat": 4,
 "nbformat_minor": 5
}
