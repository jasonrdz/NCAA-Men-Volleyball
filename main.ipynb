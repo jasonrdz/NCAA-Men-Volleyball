{
 "cells": [
  {
   "cell_type": "code",
   "execution_count": 4,
   "id": "5c0b5052-fffc-4224-8005-56c394ce2aa2",
   "metadata": {},
   "outputs": [],
   "source": [
    "import pandas as pd\n",
    "from bs4 import BeautifulSoup\n",
    "import requests"
   ]
  },
  {
   "cell_type": "code",
   "execution_count": 11,
   "id": "679f9665-9d2f-4f27-af21-7f25beb6ac09",
   "metadata": {},
   "outputs": [],
   "source": [
    "aces = 'https://www.ncaa.com/stats/volleyball-men/d1/current/individual/532'"
   ]
  },
  {
   "cell_type": "code",
   "execution_count": 12,
   "id": "f0c4bb9d-bed0-48f8-9054-4778b566d4e3",
   "metadata": {},
   "outputs": [
    {
     "name": "stdout",
     "output_type": "stream",
     "text": [
      "https://www.ncaa.com/stats/volleyball-men/d1/current/individual/532\n"
     ]
    }
   ],
   "source": [
    "print(aces)"
   ]
  },
  {
   "cell_type": "code",
   "execution_count": 22,
   "id": "6f94f54b-5f57-4f8b-9ff0-ce5468bd1bf3",
   "metadata": {},
   "outputs": [],
   "source": [
    "service = requests.get(aces)"
   ]
  },
  {
   "cell_type": "code",
   "execution_count": 26,
   "id": "7b5bf35b-e669-4954-90f7-812625304342",
   "metadata": {},
   "outputs": [],
   "source": [
    "collecting = service.content\n",
    "information_aces = BeautifulSoup(collecting, 'html.parser')\n",
    "information_aces.prettify()\n",
    "\n",
    "date_updated = '<em class=\"placeholder\">Monday, January 27, 2025 8:08 am</em>'\n",
    "\n",
    "\n",
    "# given, we are looking at the best servers in the country, find the tab where we can get the drop down"
   ]
  },
  {
   "cell_type": "code",
   "execution_count": 41,
   "id": "00c6cef8-f06f-4215-9509-77f078271b68",
   "metadata": {},
   "outputs": [
    {
     "name": "stdout",
     "output_type": "stream",
     "text": [
      "Last updated\n"
     ]
    }
   ],
   "source": [
    "last_updated = information_aces.find_all('em')[0]\n",
    "# this is the going to be the date of when the page is updated\n",
    "most_recent_date = information_aces.find_all('em')[1].text.strip()\n"
   ]
  },
  {
   "cell_type": "code",
   "execution_count": 40,
   "id": "61a84b61-65f3-4da5-911e-ecbee039da2d",
   "metadata": {},
   "outputs": [],
   "source": [
    "# this is the going to be the date of when the page is updated\n",
    "most_recent_date = information_aces.find_all('em')[1].text.strip()"
   ]
  },
  {
   "cell_type": "code",
   "execution_count": null,
   "id": "0053f5ab-94d7-4578-87f0-6c402f2a2f5d",
   "metadata": {},
   "outputs": [],
   "source": []
  }
 ],
 "metadata": {
  "kernelspec": {
   "display_name": "Python 3 (ipykernel)",
   "language": "python",
   "name": "python3"
  },
  "language_info": {
   "codemirror_mode": {
    "name": "ipython",
    "version": 3
   },
   "file_extension": ".py",
   "mimetype": "text/x-python",
   "name": "python",
   "nbconvert_exporter": "python",
   "pygments_lexer": "ipython3",
   "version": "3.11.4"
  }
 },
 "nbformat": 4,
 "nbformat_minor": 5
}
