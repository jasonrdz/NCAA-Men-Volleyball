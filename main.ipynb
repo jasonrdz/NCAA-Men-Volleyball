{
 "cells": [
  {
   "cell_type": "code",
   "execution_count": 207,
   "id": "5c0b5052-fffc-4224-8005-56c394ce2aa2",
   "metadata": {},
   "outputs": [],
   "source": [
    "import pandas as pd\n",
    "from bs4 import BeautifulSoup\n",
    "import requests\n",
    "import numpy as np\n",
    "import math\n",
    "import datetime"
   ]
  },
  {
   "cell_type": "code",
   "execution_count": 139,
   "id": "679f9665-9d2f-4f27-af21-7f25beb6ac09",
   "metadata": {},
   "outputs": [],
   "source": [
    "aces = 'https://www.ncaa.com/stats/volleyball-men/d1/current/individual/532'"
   ]
  },
  {
   "cell_type": "code",
   "execution_count": 141,
   "id": "6f94f54b-5f57-4f8b-9ff0-ce5468bd1bf3",
   "metadata": {},
   "outputs": [],
   "source": [
    "service = requests.get(aces)"
   ]
  },
  {
   "cell_type": "code",
   "execution_count": 193,
   "id": "7b5bf35b-e669-4954-90f7-812625304342",
   "metadata": {},
   "outputs": [],
   "source": [
    "collecting = service.content\n",
    "information_aces = BeautifulSoup(collecting, 'html.parser')\n",
    "information_aces.prettify()\n",
    "\n",
    "date_updated = '<em class=\"placeholder\">Monday, January 27, 2025 8:08 am</em>'"
   ]
  },
  {
   "cell_type": "code",
   "execution_count": 194,
   "id": "00c6cef8-f06f-4215-9509-77f078271b68",
   "metadata": {},
   "outputs": [],
   "source": [
    "last_updated = information_aces.find_all('em')[0]\n",
    "# this is the going to be the date of when the page is updated\n",
    "most_recent_date = information_aces.find_all('em')[1].text.strip()"
   ]
  },
  {
   "cell_type": "code",
   "execution_count": 195,
   "id": "7cda41c5-d6a4-44e7-b60c-ad6eef35e69a",
   "metadata": {},
   "outputs": [],
   "source": [
    "# in order to make the data frame we want to make, we will need to find all the headers and columns we were using earlier\n",
    "columns_aces = information_aces.find('tr').text\n",
    "columns_aces = columns.replace('\\n',' ').strip().split()\n",
    "df = pd.DataFrame(columns = columns_aces)\n",
    "df['Per Set'] = df['Per'].astype(str) + df['Set'].astype(str)\n",
    "df = df.drop(['Per','Set'], axis = 1)"
   ]
  },
  {
   "cell_type": "code",
   "execution_count": 196,
   "id": "8e79b2ef-a7fc-41fd-9610-4f20cb89d9a7",
   "metadata": {
    "scrolled": true
   },
   "outputs": [],
   "source": [
    "# putting everything all together\n",
    "\n",
    "table_data = information_aces.find_all('tr')\n",
    "\n",
    "valid_ranking = 0\n",
    "\n",
    "for item in table_data[1:]:\n",
    "    vb = item.find_all('td')\n",
    "    pieced = [info.text.strip() for info in vb]\n",
    "    if pieced[0] == '-':\n",
    "        valid_ranking += 1\n",
    "        pieced[0] = str(valid_ranking)\n",
    "    else:\n",
    "        valid_ranking= int(pieced[0])\n",
    "    length = len(df)\n",
    "    df.loc[length] = pieced\n",
    "\n",
    "\n",
    "# changing the data types\n",
    "df['S'] = df['S'].astype(int)\n",
    "df['Aces'] = df['Aces'].astype(int)\n",
    "df['Per Set'] = df['Per Set'].astype(float)\n",
    "df['Rank'] = df['Rank'].astype(int)"
   ]
  },
  {
   "cell_type": "code",
   "execution_count": 205,
   "id": "0053f5ab-94d7-4578-87f0-6c402f2a2f5d",
   "metadata": {},
   "outputs": [
    {
     "data": {
      "text/html": [
       "<div>\n",
       "<style scoped>\n",
       "    .dataframe tbody tr th:only-of-type {\n",
       "        vertical-align: middle;\n",
       "    }\n",
       "\n",
       "    .dataframe tbody tr th {\n",
       "        vertical-align: top;\n",
       "    }\n",
       "\n",
       "    .dataframe thead th {\n",
       "        text-align: right;\n",
       "    }\n",
       "</style>\n",
       "<table border=\"1\" class=\"dataframe\">\n",
       "  <thead>\n",
       "    <tr style=\"text-align: right;\">\n",
       "      <th></th>\n",
       "      <th>Rank</th>\n",
       "      <th>Name</th>\n",
       "      <th>Team</th>\n",
       "      <th>Cl</th>\n",
       "      <th>Height</th>\n",
       "      <th>S</th>\n",
       "      <th>Aces</th>\n",
       "      <th>Per Set</th>\n",
       "    </tr>\n",
       "  </thead>\n",
       "  <tbody>\n",
       "    <tr>\n",
       "      <th>27</th>\n",
       "      <td>28</td>\n",
       "      <td>Mustafa Selçuk Uyar</td>\n",
       "      <td>Menlo</td>\n",
       "      <td>Sr.</td>\n",
       "      <td>6-8</td>\n",
       "      <td>21</td>\n",
       "      <td>10</td>\n",
       "      <td>0.476</td>\n",
       "    </tr>\n",
       "    <tr>\n",
       "      <th>30</th>\n",
       "      <td>31</td>\n",
       "      <td>Carson Strawbridge</td>\n",
       "      <td>Queens (NC)</td>\n",
       "      <td>So.</td>\n",
       "      <td>6-2</td>\n",
       "      <td>30</td>\n",
       "      <td>14</td>\n",
       "      <td>0.467</td>\n",
       "    </tr>\n",
       "    <tr>\n",
       "      <th>33</th>\n",
       "      <td>34</td>\n",
       "      <td>Ryan Geraci</td>\n",
       "      <td>Barton</td>\n",
       "      <td>So.</td>\n",
       "      <td>6-6</td>\n",
       "      <td>24</td>\n",
       "      <td>11</td>\n",
       "      <td>0.458</td>\n",
       "    </tr>\n",
       "    <tr>\n",
       "      <th>34</th>\n",
       "      <td>35</td>\n",
       "      <td>Lucas Machado</td>\n",
       "      <td>Ball St.</td>\n",
       "      <td>So.</td>\n",
       "      <td>6-6</td>\n",
       "      <td>24</td>\n",
       "      <td>11</td>\n",
       "      <td>0.458</td>\n",
       "    </tr>\n",
       "    <tr>\n",
       "      <th>43</th>\n",
       "      <td>44</td>\n",
       "      <td>Teilon-Jonathan Tufuga</td>\n",
       "      <td>BYU</td>\n",
       "      <td>So.</td>\n",
       "      <td>6-5</td>\n",
       "      <td>26</td>\n",
       "      <td>11</td>\n",
       "      <td>0.423</td>\n",
       "    </tr>\n",
       "  </tbody>\n",
       "</table>\n",
       "</div>"
      ],
      "text/plain": [
       "    Rank                    Name         Team   Cl Height   S  Aces  Per Set\n",
       "27    28     Mustafa Selçuk Uyar        Menlo  Sr.    6-8  21    10    0.476\n",
       "30    31      Carson Strawbridge  Queens (NC)  So.    6-2  30    14    0.467\n",
       "33    34             Ryan Geraci       Barton  So.    6-6  24    11    0.458\n",
       "34    35           Lucas Machado     Ball St.  So.    6-6  24    11    0.458\n",
       "43    44  Teilon-Jonathan Tufuga          BYU  So.    6-5  26    11    0.423"
      ]
     },
     "execution_count": 205,
     "metadata": {},
     "output_type": "execute_result"
    }
   ],
   "source": [
    "# we usually will use .3 to .5 for the best serving teams\n",
    "# will research more on the \n",
    "\n",
    "average = df[(df['Per Set'] > .3) & (df['Per Set'] < .5) & (df['Aces'] >= 10) & (df['S'] > int(20))]\n",
    "average"
   ]
  },
  {
   "cell_type": "code",
   "execution_count": null,
   "id": "a0e391c6-4c3d-4646-81df-7f261f10bacf",
   "metadata": {},
   "outputs": [],
   "source": [
    "# current status of project: \n",
    "I am looking to do some research on the historcally best teams with their serving percentages and the overall \n",
    "performance of the teams\n",
    "\n",
    "Automation should come next given the finalized of formulaic approach I decide to take"
   ]
  },
  {
   "cell_type": "code",
   "execution_count": null,
   "id": "4d1334fb-285d-4fae-8204-2e36641193be",
   "metadata": {},
   "outputs": [],
   "source": []
  }
 ],
 "metadata": {
  "kernelspec": {
   "display_name": "Python 3 (ipykernel)",
   "language": "python",
   "name": "python3"
  },
  "language_info": {
   "codemirror_mode": {
    "name": "ipython",
    "version": 3
   },
   "file_extension": ".py",
   "mimetype": "text/x-python",
   "name": "python",
   "nbconvert_exporter": "python",
   "pygments_lexer": "ipython3",
   "version": "3.11.4"
  }
 },
 "nbformat": 4,
 "nbformat_minor": 5
}
